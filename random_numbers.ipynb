{
 "cells": [
  {
   "cell_type": "code",
   "execution_count": 1,
   "id": "d7331dea",
   "metadata": {},
   "outputs": [],
   "source": [
    "# Import the random module.\n",
    "import random"
   ]
  },
  {
   "cell_type": "code",
   "execution_count": 3,
   "id": "4bb126ca",
   "metadata": {},
   "outputs": [
    {
     "data": {
      "text/plain": [
       "-82"
      ]
     },
     "execution_count": 3,
     "metadata": {},
     "output_type": "execute_result"
    }
   ],
   "source": [
    "random.randint(-90, 90)"
   ]
  },
  {
   "cell_type": "code",
   "execution_count": 4,
   "id": "d3741562",
   "metadata": {},
   "outputs": [
    {
     "data": {
      "text/plain": [
       "0.52318651936096"
      ]
     },
     "execution_count": 4,
     "metadata": {},
     "output_type": "execute_result"
    }
   ],
   "source": [
    "random.random()"
   ]
  },
  {
   "cell_type": "code",
   "execution_count": 6,
   "id": "3789c683",
   "metadata": {},
   "outputs": [
    {
     "data": {
      "text/plain": [
       "[26.66073162710497,\n",
       " -88.90269976812904,\n",
       " 27.760922545090054,\n",
       " 89.73165899331471,\n",
       " 20.26430598711017,\n",
       " 27.697590034248673,\n",
       " -9.496532948752508,\n",
       " 56.54895946828409,\n",
       " -69.07373326490882,\n",
       " -31.80450130804824]"
      ]
     },
     "execution_count": 6,
     "metadata": {},
     "output_type": "execute_result"
    }
   ],
   "source": [
    "x = 1\n",
    "latitudes = []\n",
    "while x < 11:\n",
    "    random_lat = random.randint(-90, 89) + random.random()\n",
    "    latitudes.append(random_lat)\n",
    "    x += 1\n",
    "    \n",
    "latitudes"
   ]
  },
  {
   "cell_type": "code",
   "execution_count": 8,
   "id": "7409ecac",
   "metadata": {},
   "outputs": [
    {
     "data": {
      "text/plain": [
       "21"
      ]
     },
     "execution_count": 8,
     "metadata": {},
     "output_type": "execute_result"
    }
   ],
   "source": [
    "random.randrange(-90, 90, step=3)"
   ]
  },
  {
   "cell_type": "code",
   "execution_count": 9,
   "id": "17015cc6",
   "metadata": {},
   "outputs": [
    {
     "data": {
      "text/plain": [
       "-74.10766471997722"
      ]
     },
     "execution_count": 9,
     "metadata": {},
     "output_type": "execute_result"
    }
   ],
   "source": [
    "random.uniform(-90, 90)"
   ]
  },
  {
   "cell_type": "code",
   "execution_count": 10,
   "id": "4dc7b9b6",
   "metadata": {},
   "outputs": [],
   "source": [
    "# Import the NumPy module.\n",
    "import numpy as np"
   ]
  },
  {
   "cell_type": "code",
   "execution_count": 11,
   "id": "ef47da05",
   "metadata": {},
   "outputs": [
    {
     "data": {
      "text/plain": [
       "32.378206390438464"
      ]
     },
     "execution_count": 11,
     "metadata": {},
     "output_type": "execute_result"
    }
   ],
   "source": [
    "np.random.uniform(-90.000, 90.000)"
   ]
  },
  {
   "cell_type": "code",
   "execution_count": 12,
   "id": "9eff2590",
   "metadata": {},
   "outputs": [
    {
     "data": {
      "text/plain": [
       "array([-21.63952625, -22.28509736,  42.37822587,   6.43056168,\n",
       "        51.20020692, -38.0061231 , -13.72184821, -65.43802507,\n",
       "       -42.12169238, -32.72709827,  43.08198187,  43.43507214,\n",
       "       -22.58897304, -18.3993293 , -18.41965403, -79.45997554,\n",
       "       -22.99787518,  71.24717705,  21.2691935 ,  10.76758033,\n",
       "       -69.85846995, -64.29419028, -77.33775732, -69.77347898,\n",
       "        84.00382262,  68.21515521,  49.63853156, -58.17021438,\n",
       "        44.25127831, -25.12569796,  57.31218852, -75.21135139,\n",
       "       -18.49602366, -45.18615966, -89.84733622,  53.23524871,\n",
       "       -19.26080626,  11.03051399,   0.55863267,  79.91687565,\n",
       "         4.17499074, -38.93612792,  15.30733114,  58.95554398,\n",
       "         6.86325382,  44.82422577, -72.64803406,  19.83077967,\n",
       "       -50.80467224,  84.01975152])"
      ]
     },
     "execution_count": 12,
     "metadata": {},
     "output_type": "execute_result"
    }
   ],
   "source": [
    "np.random.uniform(-90.000, 90.000, size=50)"
   ]
  },
  {
   "cell_type": "code",
   "execution_count": 13,
   "id": "d4b9325f",
   "metadata": {},
   "outputs": [],
   "source": [
    "# Import timeit.\n",
    "import timeit"
   ]
  },
  {
   "cell_type": "code",
   "execution_count": 14,
   "id": "686f8874",
   "metadata": {},
   "outputs": [
    {
     "name": "stdout",
     "output_type": "stream",
     "text": [
      "10 µs ± 347 ns per loop (mean ± std. dev. of 7 runs, 100000 loops each)\n"
     ]
    }
   ],
   "source": [
    "%timeit np.random.uniform(-90.000, 90.000, size=1500)"
   ]
  },
  {
   "cell_type": "code",
   "execution_count": 15,
   "id": "2c02afbc",
   "metadata": {},
   "outputs": [
    {
     "name": "stdout",
     "output_type": "stream",
     "text": [
      "1.27 ms ± 11.1 µs per loop (mean ± std. dev. of 7 runs, 1000 loops each)\n"
     ]
    }
   ],
   "source": [
    "def latitudes(size):\n",
    "    latitudes = []\n",
    "    x = 0\n",
    "    while x < (size):\n",
    "        random_lat = random.randint(-90, 90) + random.random()\n",
    "        latitudes.append(random_lat)\n",
    "        x += 1\n",
    "    return latitudes\n",
    "# Call the function with 1500.\n",
    "%timeit latitudes(1500)"
   ]
  },
  {
   "cell_type": "code",
   "execution_count": null,
   "id": "095b70f4",
   "metadata": {},
   "outputs": [],
   "source": []
  }
 ],
 "metadata": {
  "kernelspec": {
   "display_name": "Python 3 (ipykernel)",
   "language": "python",
   "name": "python3"
  },
  "language_info": {
   "codemirror_mode": {
    "name": "ipython",
    "version": 3
   },
   "file_extension": ".py",
   "mimetype": "text/x-python",
   "name": "python",
   "nbconvert_exporter": "python",
   "pygments_lexer": "ipython3",
   "version": "3.7.11"
  }
 },
 "nbformat": 4,
 "nbformat_minor": 5
}
