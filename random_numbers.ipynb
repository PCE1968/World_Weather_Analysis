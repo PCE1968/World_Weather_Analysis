{
 "cells": [
  {
   "cell_type": "code",
   "execution_count": 1,
   "id": "d7331dea",
   "metadata": {},
   "outputs": [],
   "source": [
    "# Import the random module.\n",
    "import random"
   ]
  },
  {
   "cell_type": "code",
   "execution_count": 2,
   "id": "4bb126ca",
   "metadata": {},
   "outputs": [
    {
     "data": {
      "text/plain": [
       "-69"
      ]
     },
     "execution_count": 2,
     "metadata": {},
     "output_type": "execute_result"
    }
   ],
   "source": [
    "random.randint(-90, 90)"
   ]
  },
  {
   "cell_type": "code",
   "execution_count": 3,
   "id": "d3741562",
   "metadata": {},
   "outputs": [
    {
     "data": {
      "text/plain": [
       "0.22911323696750552"
      ]
     },
     "execution_count": 3,
     "metadata": {},
     "output_type": "execute_result"
    }
   ],
   "source": [
    "random.random()"
   ]
  },
  {
   "cell_type": "code",
   "execution_count": 4,
   "id": "3789c683",
   "metadata": {},
   "outputs": [
    {
     "data": {
      "text/plain": [
       "[28.403204072394686,\n",
       " 62.39992603098797,\n",
       " 32.53025289317773,\n",
       " 18.523321268142734,\n",
       " -82.5212087909801,\n",
       " 71.98518214264661,\n",
       " -3.873735842904317,\n",
       " 30.338136866923552,\n",
       " 26.710629804249464,\n",
       " -56.75626604359515]"
      ]
     },
     "execution_count": 4,
     "metadata": {},
     "output_type": "execute_result"
    }
   ],
   "source": [
    "x = 1\n",
    "latitudes = []\n",
    "while x < 11:\n",
    "    random_lat = random.randint(-90, 89) + random.random()\n",
    "    latitudes.append(random_lat)\n",
    "    x += 1\n",
    "    \n",
    "latitudes"
   ]
  },
  {
   "cell_type": "code",
   "execution_count": 5,
   "id": "7409ecac",
   "metadata": {},
   "outputs": [
    {
     "data": {
      "text/plain": [
       "57"
      ]
     },
     "execution_count": 5,
     "metadata": {},
     "output_type": "execute_result"
    }
   ],
   "source": [
    "random.randrange(-90, 90, step=3)"
   ]
  },
  {
   "cell_type": "code",
   "execution_count": 6,
   "id": "17015cc6",
   "metadata": {},
   "outputs": [
    {
     "data": {
      "text/plain": [
       "-67.0122717602556"
      ]
     },
     "execution_count": 6,
     "metadata": {},
     "output_type": "execute_result"
    }
   ],
   "source": [
    "random.uniform(-90, 90)"
   ]
  },
  {
   "cell_type": "code",
   "execution_count": 7,
   "id": "4dc7b9b6",
   "metadata": {},
   "outputs": [],
   "source": [
    "# Import the NumPy module.\n",
    "import numpy as np"
   ]
  },
  {
   "cell_type": "code",
   "execution_count": 8,
   "id": "ef47da05",
   "metadata": {},
   "outputs": [
    {
     "data": {
      "text/plain": [
       "28.84646116515721"
      ]
     },
     "execution_count": 8,
     "metadata": {},
     "output_type": "execute_result"
    }
   ],
   "source": [
    "np.random.uniform(-90.000, 90.000)"
   ]
  },
  {
   "cell_type": "code",
   "execution_count": 9,
   "id": "9eff2590",
   "metadata": {},
   "outputs": [
    {
     "data": {
      "text/plain": [
       "array([-22.28761973, -53.7166297 , -47.87208172, -33.31454961,\n",
       "       -52.67649527,  15.21135536, -76.22233518, -83.05454918,\n",
       "       -36.95036008, -28.74258807, -29.62792894,  87.43046426,\n",
       "        30.8732675 , -87.61977568, -88.69406023,  -4.60779944,\n",
       "       -15.52702102, -18.68156039,  78.65684704,  38.06132115,\n",
       "        -6.76119381,  -6.69271711,  62.14117011,  66.42852432,\n",
       "        64.95305392,  47.97758929,  84.02693461, -61.61238816,\n",
       "        35.18312939,  24.69496916,  27.48945714,   7.1390949 ,\n",
       "        -9.38194927,  38.25699369, -70.5918304 , -83.90763266,\n",
       "        26.44334619,  78.50638534,  74.44729971,  73.09711465,\n",
       "        49.10761985,  22.20486425, -13.05834016, -80.40522094,\n",
       "        -8.31071351, -33.58676237, -21.76635992, -16.90999844,\n",
       "       -72.06287153, -67.73977885])"
      ]
     },
     "execution_count": 9,
     "metadata": {},
     "output_type": "execute_result"
    }
   ],
   "source": [
    "np.random.uniform(-90.000, 90.000, size=50)"
   ]
  },
  {
   "cell_type": "code",
   "execution_count": 10,
   "id": "d4b9325f",
   "metadata": {},
   "outputs": [],
   "source": [
    "# Import timeit.\n",
    "import timeit"
   ]
  },
  {
   "cell_type": "code",
   "execution_count": 11,
   "id": "686f8874",
   "metadata": {},
   "outputs": [
    {
     "name": "stdout",
     "output_type": "stream",
     "text": [
      "9.72 µs ± 72.3 ns per loop (mean ± std. dev. of 7 runs, 100000 loops each)\n"
     ]
    }
   ],
   "source": [
    "%timeit np.random.uniform(-90.000, 90.000, size=1500)"
   ]
  },
  {
   "cell_type": "code",
   "execution_count": 12,
   "id": "2c02afbc",
   "metadata": {},
   "outputs": [
    {
     "name": "stdout",
     "output_type": "stream",
     "text": [
      "1.27 ms ± 8.81 µs per loop (mean ± std. dev. of 7 runs, 1000 loops each)\n"
     ]
    }
   ],
   "source": [
    "def latitudes(size):\n",
    "    latitudes = []\n",
    "    x = 0\n",
    "    while x < (size):\n",
    "        random_lat = random.randint(-90, 90) + random.random()\n",
    "        latitudes.append(random_lat)\n",
    "        x += 1\n",
    "    return latitudes\n",
    "# Call the function with 1500.\n",
    "%timeit latitudes(1500)"
   ]
  },
  {
   "cell_type": "code",
   "execution_count": null,
   "id": "095b70f4",
   "metadata": {},
   "outputs": [],
   "source": []
  }
 ],
 "metadata": {
  "kernelspec": {
   "display_name": "Python 3 (ipykernel)",
   "language": "python",
   "name": "python3"
  },
  "language_info": {
   "codemirror_mode": {
    "name": "ipython",
    "version": 3
   },
   "file_extension": ".py",
   "mimetype": "text/x-python",
   "name": "python",
   "nbconvert_exporter": "python",
   "pygments_lexer": "ipython3",
   "version": "3.7.11"
  }
 },
 "nbformat": 4,
 "nbformat_minor": 5
}
